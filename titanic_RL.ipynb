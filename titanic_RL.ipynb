{
 "cells": [
  {
   "cell_type": "markdown",
   "metadata": {},
   "source": [
    "### Project: Titanic dataset\n",
    "\n",
    "### Author: Ricardo A. Leal\n",
    "\n",
    "#### Problem: predict which passengers survived the Titanic shipwreck using the dataset from the Kaggle competition \"Titanic: Machine Learning from Disaster\"\n",
    "\n",
    "##### Note: \n",
    "Some of my features are processed in a similar way to what I have learn on different machine learning courses, books and websites. This is a basic project to get familiar with machine learning techniques."
   ]
  },
  {
   "cell_type": "code",
   "execution_count": 1,
   "metadata": {
    "scrolled": true
   },
   "outputs": [],
   "source": [
    "#Libraries\n",
    "import numpy as np\n",
    "import pandas as pd\n",
    "import matplotlib.pyplot as plt\n",
    "import warnings\n",
    "\n",
    "from sklearn.model_selection import cross_val_predict, cross_val_score\n",
    "from sklearn.metrics import confusion_matrix, f1_score, precision_recall_curve, precision_score, recall_score\n",
    "from sklearn.preprocessing import MinMaxScaler\n",
    "\n",
    "#ML models\n",
    "from sklearn.linear_model import LogisticRegression\n",
    "from sklearn.linear_model import SGDClassifier\n",
    "from sklearn.svm import SVC\n",
    "#Set seed to reproduce results\n",
    "np.random.seed(33)\n",
    "#Ignore warnings\n",
    "warnings.filterwarnings('ignore')\n",
    "\n",
    "%matplotlib inline"
   ]
  },
  {
   "cell_type": "markdown",
   "metadata": {},
   "source": [
    "## Get the data"
   ]
  },
  {
   "cell_type": "code",
   "execution_count": 2,
   "metadata": {},
   "outputs": [],
   "source": [
    "#READING DATA\n",
    "train_set = pd.read_csv('train.csv')\n",
    "test_set = pd.read_csv('test.csv')"
   ]
  },
  {
   "cell_type": "markdown",
   "metadata": {},
   "source": [
    "## Exploring and preparing the data"
   ]
  },
  {
   "cell_type": "code",
   "execution_count": 3,
   "metadata": {},
   "outputs": [
    {
     "name": "stdout",
     "output_type": "stream",
     "text": [
      "Train info:\n",
      "\n",
      "<class 'pandas.core.frame.DataFrame'>\n",
      "RangeIndex: 891 entries, 0 to 890\n",
      "Data columns (total 12 columns):\n",
      " #   Column       Non-Null Count  Dtype  \n",
      "---  ------       --------------  -----  \n",
      " 0   PassengerId  891 non-null    int64  \n",
      " 1   Survived     891 non-null    int64  \n",
      " 2   Pclass       891 non-null    int64  \n",
      " 3   Name         891 non-null    object \n",
      " 4   Sex          891 non-null    object \n",
      " 5   Age          714 non-null    float64\n",
      " 6   SibSp        891 non-null    int64  \n",
      " 7   Parch        891 non-null    int64  \n",
      " 8   Ticket       891 non-null    object \n",
      " 9   Fare         891 non-null    float64\n",
      " 10  Cabin        204 non-null    object \n",
      " 11  Embarked     889 non-null    object \n",
      "dtypes: float64(2), int64(5), object(5)\n",
      "memory usage: 83.7+ KB\n",
      "\n",
      "\n",
      "Test info:\n",
      "\n",
      "<class 'pandas.core.frame.DataFrame'>\n",
      "RangeIndex: 418 entries, 0 to 417\n",
      "Data columns (total 11 columns):\n",
      " #   Column       Non-Null Count  Dtype  \n",
      "---  ------       --------------  -----  \n",
      " 0   PassengerId  418 non-null    int64  \n",
      " 1   Pclass       418 non-null    int64  \n",
      " 2   Name         418 non-null    object \n",
      " 3   Sex          418 non-null    object \n",
      " 4   Age          332 non-null    float64\n",
      " 5   SibSp        418 non-null    int64  \n",
      " 6   Parch        418 non-null    int64  \n",
      " 7   Ticket       418 non-null    object \n",
      " 8   Fare         417 non-null    float64\n",
      " 9   Cabin        91 non-null     object \n",
      " 10  Embarked     418 non-null    object \n",
      "dtypes: float64(2), int64(4), object(5)\n",
      "memory usage: 36.0+ KB\n"
     ]
    }
   ],
   "source": [
    "#Explore data\n",
    "print(\"Train info:\\n\")\n",
    "train_set.info()\n",
    "\n",
    "print(\"\\n\\nTest info:\\n\")\n",
    "test_set.info()"
   ]
  },
  {
   "cell_type": "markdown",
   "metadata": {},
   "source": [
    "We can see that there is not much information missing. We will drop some of the columns and replace missing values in other columns.\n",
    "\n",
    "##### Dropping Cabin, Ticket and PassengerId columns"
   ]
  },
  {
   "cell_type": "code",
   "execution_count": 4,
   "metadata": {},
   "outputs": [],
   "source": [
    "#Drop Cabin column\n",
    "train_set = train_set.drop(['Cabin'], axis = 1)\n",
    "test_set = test_set.drop(['Cabin'], axis = 1)\n",
    "\n",
    "#Drop Ticket column\n",
    "train_set = train_set.drop(['Ticket'], axis = 1)\n",
    "test_set = test_set.drop(['Ticket'], axis = 1)\n",
    "\n",
    "#Drop PassengerId column but keep a copy of the test set's passengerId for the submission\n",
    "train_set = train_set.drop(['PassengerId'], axis = 1)\n",
    "test_passenger_id = test_set['PassengerId'].copy() #Copy for the submission\n",
    "test_set = test_set.drop(['PassengerId'], axis = 1)"
   ]
  },
  {
   "cell_type": "markdown",
   "metadata": {},
   "source": [
    "##### Age column"
   ]
  },
  {
   "cell_type": "code",
   "execution_count": 5,
   "metadata": {},
   "outputs": [],
   "source": [
    "#Replace missing values in the Age column with the mean age of each set\n",
    "age_mean = round(train_set['Age'].mean())\n",
    "train_set['Age'] = train_set['Age'].fillna(age_mean)\n",
    "test_set['Age'] = test_set['Age'].fillna(age_mean)"
   ]
  },
  {
   "cell_type": "markdown",
   "metadata": {},
   "source": [
    "##### Sex column"
   ]
  },
  {
   "cell_type": "code",
   "execution_count": 6,
   "metadata": {},
   "outputs": [],
   "source": [
    "#Replace categorical values in the Sex column for numerical values\n",
    "train_set['Sex'].replace({'female': 0, 'male': 1}, inplace = True)\n",
    "test_set['Sex'].replace({'female': 0, 'male': 1}, inplace = True)"
   ]
  },
  {
   "cell_type": "markdown",
   "metadata": {},
   "source": [
    "##### Embarked column"
   ]
  },
  {
   "cell_type": "code",
   "execution_count": 7,
   "metadata": {},
   "outputs": [
    {
     "name": "stdout",
     "output_type": "stream",
     "text": [
      "     Survived  Pclass                                       Name  Sex   Age  \\\n",
      "61          1       1                        Icard, Miss. Amelie    0  38.0   \n",
      "829         1       1  Stone, Mrs. George Nelson (Martha Evelyn)    0  62.0   \n",
      "\n",
      "     SibSp  Parch  Fare  Embarked  \n",
      "61       0      0  80.0       NaN  \n",
      "829      0      0  80.0       NaN  \n"
     ]
    }
   ],
   "source": [
    "#Replace categorical values in the Embarked column for numerical values\n",
    "train_set['Embarked'].replace({'C': 0, 'S': 1, 'Q':2}, inplace = True)\n",
    "test_set['Embarked'].replace({'C': 0, 'S': 1, 'Q':2}, inplace = True)\n",
    "\n",
    "#See the passengers that are missing the Embarked value\n",
    "print(train_set.loc[train_set['Embarked'].isnull()])"
   ]
  },
  {
   "cell_type": "markdown",
   "metadata": {},
   "source": [
    "Both of those passengers belong to the 1st class and have a higher chance of survival.\n",
    "Instead of dropping them, I will replace the missing value with the mode of the Embarked column in the train set"
   ]
  },
  {
   "cell_type": "code",
   "execution_count": 8,
   "metadata": {
    "scrolled": true
   },
   "outputs": [],
   "source": [
    "#Find the mode of the column\n",
    "embarked_mode = train_set['Embarked'].mode()\n",
    "\n",
    "#Replace values with the mode\n",
    "train_set['Embarked'].replace({np.NaN: embarked_mode.iloc[0] }, inplace = True)"
   ]
  },
  {
   "cell_type": "markdown",
   "metadata": {},
   "source": [
    "##### Fare column"
   ]
  },
  {
   "cell_type": "code",
   "execution_count": 9,
   "metadata": {},
   "outputs": [
    {
     "name": "stdout",
     "output_type": "stream",
     "text": [
      "     Pclass                Name  Sex   Age  SibSp  Parch  Fare  Embarked\n",
      "152       3  Storey, Mr. Thomas    1  60.5      0      0   NaN         1\n"
     ]
    }
   ],
   "source": [
    "#See which values are NaN\n",
    "print(test_set.loc[test_set['Fare'].isnull()])"
   ]
  },
  {
   "cell_type": "markdown",
   "metadata": {},
   "source": [
    "Only one person is missing the Fare value in the test set. As the test set is very small, I will not drop that passenger. Instead, I will reaplce the value with the mean of the Fare column."
   ]
  },
  {
   "cell_type": "code",
   "execution_count": 10,
   "metadata": {},
   "outputs": [],
   "source": [
    "#Make a copy of the data\n",
    "temp_data = test_set.copy()\n",
    "#Check the average price for Pclass == 3\n",
    "temp_data = temp_data[temp_data['Pclass'] == 3]\n",
    "\n",
    "#Find the mean\n",
    "mean_fare = round(temp_data['Fare'].mean())\n",
    "#Replace missing values with the mean\n",
    "test_set['Fare'].replace({np.NaN: mean_fare }, inplace = True)"
   ]
  },
  {
   "cell_type": "markdown",
   "metadata": {},
   "source": [
    "##### Name column"
   ]
  },
  {
   "cell_type": "code",
   "execution_count": 11,
   "metadata": {},
   "outputs": [
    {
     "name": "stdout",
     "output_type": "stream",
     "text": [
      "Column Name has 891 unique values\n",
      "It is better to get the titles of the passengers instead of the full names\n"
     ]
    }
   ],
   "source": [
    "#Explore data\n",
    "print('Column Name has',train_set['Name'].value_counts().sum(),'unique values')\n",
    "print('It is better to get the titles of the passengers instead of the full names')"
   ]
  },
  {
   "cell_type": "markdown",
   "metadata": {},
   "source": [
    "The Name column values will be divided into smaller groups based on their social status/title. This process will\n",
    "be done for both the training and test set."
   ]
  },
  {
   "cell_type": "code",
   "execution_count": 12,
   "metadata": {
    "scrolled": true
   },
   "outputs": [],
   "source": [
    "#Replacing names in the train set:\n",
    "\n",
    "#Make a copy of the train set\n",
    "split_train_names = train_set['Name'].copy()\n",
    "\n",
    "#Divide the string fom left to right\n",
    "split_train_names = split_train_names.str.split(\", \", n=1, expand = True) #Separate the last name and the title\n",
    "split_train_names = split_train_names.drop([0], axis = 1) #Drop the last name\n",
    "split_train_names[1] = split_train_names[1].str.split(\".\", n=1, expand = True) #Get only the title\n",
    "\n",
    "#Change the titles to numbers\n",
    "split_train_names[1].replace({'Mr': 0, 'Mrs': 0, 'Ms': 0}, inplace = True)\n",
    "split_train_names[1].replace({'Rev': 1, 'Miss': 1, 'Mlle':1, 'Major': 1, 'Mme':1}, inplace = True)\n",
    "split_train_names[1].replace({'Master': 2, 'Col': 2, 'Capt': 2, 'Dr': 2}, inplace = True)\n",
    "split_train_names[1].replace({'the Countess': 3, 'Don': 3, 'Jonkheer':3, 'Sir': 3, 'Lady': 3, 'Dona': 3}, inplace = True)\n",
    "\n",
    "#Copy column to train set\n",
    "train_set['Name'] = split_train_names[1].copy()"
   ]
  },
  {
   "cell_type": "markdown",
   "metadata": {},
   "source": [
    "Same replacing process for the names in the test set:"
   ]
  },
  {
   "cell_type": "code",
   "execution_count": 13,
   "metadata": {},
   "outputs": [],
   "source": [
    "#Make a copy\n",
    "split_test_names = test_set['Name'].copy()\n",
    "\n",
    "#Divide the string fom left to right characters\n",
    "split_test_names = split_test_names.str.split(\", \", n=1, expand = True)#Separate the last name and the title\n",
    "split_test_names = split_test_names.drop([0], axis = 1)#Drop the last name\n",
    "split_test_names[1] = split_test_names[1].str.split(\".\", n=1, expand = True) #Get only the title\n",
    "\n",
    "#Change the titles to numbers\n",
    "split_test_names[1].replace({'Mr': 0, 'Mrs': 0, 'Ms': 0}, inplace = True)\n",
    "split_test_names[1].replace({'Rev': 1, 'Miss': 1, 'Mlle':1, 'Major': 1, 'Mme':1}, inplace = True)\n",
    "split_test_names[1].replace({'Master': 2, 'Col': 2, 'Capt': 2, 'Dr': 2}, inplace = True)\n",
    "split_test_names[1].replace({'the Countess': 3, 'Don': 3, 'Jonkheer':3, 'Sir': 3, 'Lady': 3, 'Dona': 3}, inplace = True)\n",
    "\n",
    "#Copy column to test set\n",
    "test_set['Name'] = split_test_names[1].copy()"
   ]
  },
  {
   "cell_type": "markdown",
   "metadata": {},
   "source": [
    "##### Creating another feature 'FamilyOnboard'"
   ]
  },
  {
   "cell_type": "code",
   "execution_count": 14,
   "metadata": {},
   "outputs": [],
   "source": [
    "#Create a new feature 'Family on-board' combining the SibSp and Parch columns\n",
    "#Adding the values together\n",
    "train_set['FamilyOnboard'] = train_set['SibSp'] + train_set['Parch']\n",
    "test_set['FamilyOnboard'] = test_set['SibSp'] + test_set['Parch']\n",
    "\n",
    "#Drop the SibSp column as it is no longer needed\n",
    "train_set = train_set.drop(['SibSp'], axis = 1)\n",
    "test_set = test_set.drop(['SibSp'], axis = 1)\n",
    "\n",
    "#Drop the Parch column as it is no longer needed\n",
    "train_set = train_set.drop(['Parch'], axis = 1)\n",
    "test_set = test_set.drop(['Parch'], axis = 1)"
   ]
  },
  {
   "cell_type": "markdown",
   "metadata": {},
   "source": [
    "### Scaling and organizing the data\n",
    "\n",
    "Feature scaling to a range between 0 to 1 using MinMaxScaler for all features"
   ]
  },
  {
   "cell_type": "code",
   "execution_count": 15,
   "metadata": {
    "scrolled": true
   },
   "outputs": [
    {
     "name": "stdout",
     "output_type": "stream",
     "text": [
      "(891, 8)\n",
      "(418, 7)\n"
     ]
    }
   ],
   "source": [
    "print(train_set.shape)\n",
    "print(test_set.shape)"
   ]
  },
  {
   "cell_type": "code",
   "execution_count": 16,
   "metadata": {},
   "outputs": [],
   "source": [
    "#Scaling the train set\n",
    "scaler = MinMaxScaler()\n",
    "scaled_train_set_array = scaler.fit_transform(train_set)\n",
    "#Convert into a dataframe\n",
    "scaled_train_set = pd.DataFrame(scaled_train_set_array)\n",
    "\n",
    "#Scaling the test set\n",
    "scaler2 = MinMaxScaler()\n",
    "scaled_array = scaler2.fit_transform(test_set) \n",
    "\n",
    "#Convert into a dataframe\n",
    "scaled_test_set = pd.DataFrame(scaled_array)"
   ]
  },
  {
   "cell_type": "code",
   "execution_count": 17,
   "metadata": {},
   "outputs": [],
   "source": [
    "#Adding column names to the sets\n",
    "#Train set\n",
    "scaled_train_set.columns = ['Survived','Pclass','Name','Sex','Age','Fare','Embarked','FamilyOnboard']\n",
    "#Test set\n",
    "scaled_test_set.columns = ['Pclass','Name','Sex','Age','Fare','Embarked','FamilyOnboard']"
   ]
  },
  {
   "cell_type": "code",
   "execution_count": 18,
   "metadata": {},
   "outputs": [],
   "source": [
    "#Separate the Survived labels from the training set to avoid leaks\n",
    "survived_train = scaled_train_set['Survived'].copy()\n",
    "scaled_train_set = scaled_train_set.drop(['Survived'], axis = 1)"
   ]
  },
  {
   "cell_type": "markdown",
   "metadata": {},
   "source": [
    "Now the data is scaled and both sets have the same number of columns. We are ready to create our models"
   ]
  },
  {
   "cell_type": "markdown",
   "metadata": {},
   "source": [
    "## Machine Leaning models"
   ]
  },
  {
   "cell_type": "code",
   "execution_count": 19,
   "metadata": {
    "scrolled": false
   },
   "outputs": [],
   "source": [
    "#Machine learning models for classification tasks:\n",
    "\n",
    "#LogisticRegression\n",
    "logistic_model = LogisticRegression()\n",
    "#SGDClassifier\n",
    "sgd_model = SGDClassifier()\n",
    "#SVM ALGORITHM\n",
    "svc_model = SVC()"
   ]
  },
  {
   "cell_type": "markdown",
   "metadata": {},
   "source": [
    "Loop to fit the data and measure the performance of each model. We will measure the performance using the Confusion matrix, and F1 score"
   ]
  },
  {
   "cell_type": "code",
   "execution_count": 20,
   "metadata": {
    "scrolled": true
   },
   "outputs": [
    {
     "name": "stdout",
     "output_type": "stream",
     "text": [
      "\n",
      "Model :  LogisticRegression\n",
      "\n",
      "Confusion matrix for the cross val prediction:\n",
      "[[473  76]\n",
      " [110 232]]\n",
      "\n",
      "F1 score: 0.7138461538461539\n",
      "############################\n",
      "\n",
      "Model :  SGDClassifier\n",
      "\n",
      "Confusion matrix for the cross val prediction:\n",
      "[[485  64]\n",
      " [122 220]]\n",
      "\n",
      "F1 score: 0.7028753993610224\n",
      "############################\n",
      "\n",
      "Model :  SVC\n",
      "\n",
      "Confusion matrix for the cross val prediction:\n",
      "[[507  42]\n",
      " [126 216]]\n",
      "\n",
      "F1 score: 0.72\n",
      "############################\n"
     ]
    }
   ],
   "source": [
    "for model in (logistic_model, sgd_model, svc_model):\n",
    "    #Print model name\n",
    "    print(\"\\nModel : \", model.__class__.__name__)\n",
    "    \n",
    "    #Fit the data\n",
    "    model.fit(scaled_train_set, survived_train) \n",
    "    \n",
    "    #Get CrossVal results\n",
    "    cross_val_result = cross_val_predict(model, scaled_train_set, survived_train, cv=3)\n",
    "    \n",
    "    #Create a confusion matrix with the results from CrossVal\n",
    "    print(\"\\nConfusion matrix for the cross val prediction:\")\n",
    "    print(confusion_matrix(survived_train, cross_val_result))\n",
    "    \n",
    "    #Measure the F1 score\n",
    "    print(\"\\nF1 score:\", f1_score(survived_train, cross_val_result))\n",
    "    #Separator line to make the output more readable\n",
    "    print(\"############################\")   \n",
    "#End of loop"
   ]
  },
  {
   "cell_type": "markdown",
   "metadata": {},
   "source": [
    "After checking the results, we can see that all models have similar performances. However, the SVC  model performs the best.\n"
   ]
  },
  {
   "cell_type": "markdown",
   "metadata": {},
   "source": [
    "## Improve the models\n",
    "\n",
    "We will plot Precision vs Recall to find the best tresholds for our goal"
   ]
  },
  {
   "cell_type": "code",
   "execution_count": 21,
   "metadata": {},
   "outputs": [
    {
     "name": "stdout",
     "output_type": "stream",
     "text": [
      "\n",
      "Model:  LogisticRegression\n"
     ]
    },
    {
     "data": {
      "image/png": "[encoded data removed]",
      "text/plain": [
       "<Figure size 432x288 with 1 Axes>"
      ]
     },
     "metadata": {
      "needs_background": "light"
     },
     "output_type": "display_data"
    },
    {
     "name": "stdout",
     "output_type": "stream",
     "text": [
      "\n",
      "Model:  SGDClassifier\n"
     ]
    },
    {
     "data": {
      "image/png": "[encoded data removed]",
      "text/plain": [
       "<Figure size 432x288 with 1 Axes>"
      ]
     },
     "metadata": {
      "needs_background": "light"
     },
     "output_type": "display_data"
    },
    {
     "name": "stdout",
     "output_type": "stream",
     "text": [
      "\n",
      "Model:  SVC\n"
     ]
    },
    {
     "data": {
      "image/png": "[encoded data removed]",
      "text/plain": [
       "<Figure size 432x288 with 1 Axes>"
      ]
     },
     "metadata": {
      "needs_background": "light"
     },
     "output_type": "display_data"
    }
   ],
   "source": [
    "for model in (logistic_model, sgd_model, svc_model):\n",
    "    print(\"\\nModel: \", model.__class__.__name__)\n",
    "\n",
    "    #Cross validation\n",
    "    survived_scores = cross_val_predict(model, scaled_train_set, survived_train, cv=3,method=\"decision_function\")\n",
    "    #Get data for the graph\n",
    "    precisions, recalls, thresholds = precision_recall_curve(survived_train, survived_scores)\n",
    "  \n",
    "    #Plot data\n",
    "    plt.plot(thresholds, precisions[:-1], \"r--\", label=\"Precision\")\n",
    "    plt.plot(thresholds, recalls[:-1], \"b-\", label=\"Recall\")\n",
    "    plt.xlabel(\"Threshold\")\n",
    "    plt.legend(loc=\"lower left\")\n",
    "    plt.xlim(-1,1)\n",
    "    plt.ylim(0, 1) \n",
    "    plt.show()"
   ]
  },
  {
   "cell_type": "markdown",
   "metadata": {},
   "source": [
    "##### Now with this thresholds we will aim to get a precision of about 80% and a good F1 score. "
   ]
  },
  {
   "cell_type": "code",
   "execution_count": 22,
   "metadata": {
    "scrolled": false
   },
   "outputs": [
    {
     "name": "stdout",
     "output_type": "stream",
     "text": [
      "\n",
      "Model:  LogisticRegression\n",
      "\n",
      "Precicion score: 0.7681660899653979\n",
      "\n",
      "F1 score: 0.7036450079239303\n",
      "\n",
      "Recall score: 0.6491228070175439\n",
      "\n",
      "Confusion matrix:\n",
      " [[482  67]\n",
      " [120 222]]\n",
      "############################\n",
      "\n",
      "Model:  SGDClassifier\n",
      "\n",
      "Precicion score: 0.7541528239202658\n",
      "\n",
      "F1 score: 0.7060653188180404\n",
      "\n",
      "Recall score: 0.6637426900584795\n",
      "\n",
      "Confusion matrix:\n",
      " [[475  74]\n",
      " [115 227]]\n",
      "############################\n",
      "\n",
      "Model:  SVC\n",
      "\n",
      "Precicion score: 0.8070739549839229\n",
      "\n",
      "F1 score: 0.7687595712098009\n",
      "\n",
      "Recall score: 0.7339181286549707\n",
      "\n",
      "Confusion matrix:\n",
      " [[489  60]\n",
      " [ 91 251]]\n",
      "############################\n"
     ]
    }
   ],
   "source": [
    "for model in (logistic_model, sgd_model, svc_model):\n",
    "    #Print model name\n",
    "    print(\"\\nModel: \", model.__class__.__name__)\n",
    "\n",
    "    #Cross validation\n",
    "    survived_scores = cross_val_predict(model, scaled_train_set, survived_train, cv=3,method=\"decision_function\")\n",
    "    \n",
    "    #Convert results into a dataframe\n",
    "    survived_train_pred = pd.DataFrame(survived_scores)\n",
    "    \n",
    "    #Appliying the best threshold for each model\n",
    "    if(model == logistic_model):\n",
    "        survived_train_pred  = (survived_scores > 0.13)   \n",
    "    elif(model == sgd_model):\n",
    "                survived_train_pred  = (survived_scores > 0.25) \n",
    "    elif(model == svc_model):\n",
    "                survived_train_pred  = (survived_scores > -0.25)\n",
    "    \n",
    "    #Avoiding a mix of binary and continuous targets\n",
    "    survived_train = survived_train.astype(bool)\n",
    "    survived_train_pred = survived_train_pred.astype(bool)\n",
    "    \n",
    "    #Check preformance with the new thresholds\n",
    "    print('\\nPrecicion score:', precision_score(survived_train, survived_train_pred))\n",
    "    print(\"\\nF1 score:\", f1_score(survived_train, survived_train_pred))\n",
    "    print('\\nRecall score:', recall_score(survived_train, survived_train_pred))\n",
    "    print('\\nConfusion matrix:\\n', confusion_matrix(survived_train, survived_train_pred))\n",
    "    #Separator line to make the output more readable\n",
    "    print(\"############################\")"
   ]
  },
  {
   "cell_type": "markdown",
   "metadata": {},
   "source": [
    "We can see that the SVC model performed best after appliying the threshold. Therefore, we will use that model with the test set"
   ]
  },
  {
   "cell_type": "markdown",
   "metadata": {},
   "source": [
    "## Test the best model"
   ]
  },
  {
   "cell_type": "code",
   "execution_count": 23,
   "metadata": {},
   "outputs": [
    {
     "name": "stdout",
     "output_type": "stream",
     "text": [
      "The SVC model predicts that about 38 % of the passengers survived\n"
     ]
    }
   ],
   "source": [
    "#Choosing the best model to predict the test set\n",
    "survived_prediction = svc_model.decision_function(scaled_test_set) #SVC model performed best\n",
    "\n",
    "#Applying the best threshold\n",
    "survived_prediction = (survived_prediction > -0.25)\n",
    "\n",
    "#Convert predictions into a dataframe\n",
    "submission = pd.DataFrame(survived_prediction)\n",
    "\n",
    "#Insert PassengerId column to the predictions\n",
    "submission.insert(1, 'PassengerId', test_passenger_id)\n",
    "\n",
    "#Add names to columns\n",
    "submission.columns = ['Survived', 'PassengerId']\n",
    "#Convert data from bool to int\n",
    "submission['Survived'].replace({False: 0, True: 1}, inplace = True)\n",
    "\n",
    "#Print results of model\n",
    "print(\"The SVC model predicts that about\", int(submission['Survived'].mean() * 100), \"% of the passengers survived\")\n",
    "\n",
    "#Save predictions to a CSV file\n",
    "#submission.to_csv('predictions.cvs', index = False)"
   ]
  }
 ],
 "metadata": {
  "kernelspec": {
   "display_name": "Python 3",
   "language": "python",
   "name": "python3"
  },
  "language_info": {
   "codemirror_mode": {
    "name": "ipython",
    "version": 3
   },
   "file_extension": ".py",
   "mimetype": "text/x-python",
   "name": "python",
   "nbconvert_exporter": "python",
   "pygments_lexer": "ipython3",
   "version": "3.8.2"
  }
 },
 "nbformat": 4,
 "nbformat_minor": 2
}
